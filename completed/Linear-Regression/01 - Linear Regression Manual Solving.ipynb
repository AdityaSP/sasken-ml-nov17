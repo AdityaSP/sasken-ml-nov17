{
 "cells": [
  {
   "cell_type": "code",
   "execution_count": 4,
   "metadata": {},
   "outputs": [],
   "source": [
    "%matplotlib inline\n",
    "import sys\n",
    "import numpy as np\n",
    "import pandas as pd\n",
    "import matplotlib.pyplot as plt\n",
    "import math\n",
    "import os"
   ]
  },
  {
   "cell_type": "markdown",
   "metadata": {},
   "source": [
    "<h4>Linear Regression Overview</h4>\n",
    "<ul>\n",
    "<li>Linear Model. Estimated Target = w<sub>0</sub> + w<sub>1</sub>x<sub>1</sub> \n",
    "+ w<sub>2</sub>x<sub>2</sub> + w<sub>3</sub>x<sub>3</sub> \n",
    "+ … + w<sub>n</sub>x<sub>n</sub><br>\n",
    "where, w is the weight and x is the feature\n",
    "</li>\n",
    "<li>Predicted Value: Numeric</li>\n",
    "<li>Algorithm Used: Linear Regression. Objective is to find the weights w</li>\n",
    "<li>Optimization: Stochastic Gradient Descent. Seeks to minimize loss/cost so that predicted value is as close to actual as possible</li>\n",
    "<li>Cost/Loss Calculation: Squared loss function</li>\n",
    "</ul>"
   ]
  },
  {
   "cell_type": "code",
   "execution_count": 5,
   "metadata": {},
   "outputs": [],
   "source": [
    "# y = 5x + 8\n",
    "def straight_line(x):\n",
    "    return 5*x + 8"
   ]
  },
  {
   "cell_type": "code",
   "execution_count": 13,
   "metadata": {},
   "outputs": [],
   "source": [
    "def straight_line_weight(weight1,x):\n",
    "    return weight1*x + 8"
   ]
  },
  {
   "cell_type": "markdown",
   "metadata": {},
   "source": [
    "- create x_vals as series of random numbers\n",
    "- create y_vals by mapping x_vals using straight_line equation"
   ]
  },
  {
   "cell_type": "code",
   "execution_count": 8,
   "metadata": {},
   "outputs": [],
   "source": [
    "x_vals = pd.Series(np.random.rand(150) * 20)\n",
    "y_vals = x_vals.map(straight_line)"
   ]
  },
  {
   "cell_type": "markdown",
   "metadata": {},
   "source": [
    "- Plot x_vals and y_vals"
   ]
  },
  {
   "cell_type": "code",
   "execution_count": 12,
   "metadata": {},
   "outputs": [
    {
     "data": {
      "text/plain": [
       "<matplotlib.collections.PathCollection at 0xd6e449c240>"
      ]
     },
     "execution_count": 12,
     "metadata": {},
     "output_type": "execute_result"
    },
    {
     "data": {
      "image/png": "[encoded data removed]",
      "text/plain": [
       "<Figure size 432x288 with 1 Axes>"
      ]
     },
     "metadata": {},
     "output_type": "display_data"
    }
   ],
   "source": [
    "plt.scatter(x_vals, y_vals)"
   ]
  },
  {
   "cell_type": "markdown",
   "metadata": {},
   "source": [
    "- create a series using np.linespace(3,7,100"
   ]
  },
  {
   "cell_type": "code",
   "execution_count": 14,
   "metadata": {},
   "outputs": [],
   "source": [
    "weights=np.linspace(3,7,500)"
   ]
  },
  {
   "cell_type": "code",
   "execution_count": 15,
   "metadata": {},
   "outputs": [
    {
     "data": {
      "text/plain": [
       "array([3.        , 3.00801603, 3.01603206, 3.0240481 , 3.03206413,\n",
       "       3.04008016, 3.04809619, 3.05611222, 3.06412826, 3.07214429,\n",
       "       3.08016032, 3.08817635, 3.09619238, 3.10420842, 3.11222445,\n",
       "       3.12024048, 3.12825651, 3.13627255, 3.14428858, 3.15230461,\n",
       "       3.16032064, 3.16833667, 3.17635271, 3.18436874, 3.19238477,\n",
       "       3.2004008 , 3.20841683, 3.21643287, 3.2244489 , 3.23246493,\n",
       "       3.24048096, 3.24849699, 3.25651303, 3.26452906, 3.27254509,\n",
       "       3.28056112, 3.28857715, 3.29659319, 3.30460922, 3.31262525,\n",
       "       3.32064128, 3.32865731, 3.33667335, 3.34468938, 3.35270541,\n",
       "       3.36072144, 3.36873747, 3.37675351, 3.38476954, 3.39278557,\n",
       "       3.4008016 , 3.40881764, 3.41683367, 3.4248497 , 3.43286573,\n",
       "       3.44088176, 3.4488978 , 3.45691383, 3.46492986, 3.47294589,\n",
       "       3.48096192, 3.48897796, 3.49699399, 3.50501002, 3.51302605,\n",
       "       3.52104208, 3.52905812, 3.53707415, 3.54509018, 3.55310621,\n",
       "       3.56112224, 3.56913828, 3.57715431, 3.58517034, 3.59318637,\n",
       "       3.6012024 , 3.60921844, 3.61723447, 3.6252505 , 3.63326653,\n",
       "       3.64128257, 3.6492986 , 3.65731463, 3.66533066, 3.67334669,\n",
       "       3.68136273, 3.68937876, 3.69739479, 3.70541082, 3.71342685,\n",
       "       3.72144289, 3.72945892, 3.73747495, 3.74549098, 3.75350701,\n",
       "       3.76152305, 3.76953908, 3.77755511, 3.78557114, 3.79358717,\n",
       "       3.80160321, 3.80961924, 3.81763527, 3.8256513 , 3.83366733,\n",
       "       3.84168337, 3.8496994 , 3.85771543, 3.86573146, 3.87374749,\n",
       "       3.88176353, 3.88977956, 3.89779559, 3.90581162, 3.91382766,\n",
       "       3.92184369, 3.92985972, 3.93787575, 3.94589178, 3.95390782,\n",
       "       3.96192385, 3.96993988, 3.97795591, 3.98597194, 3.99398798,\n",
       "       4.00200401, 4.01002004, 4.01803607, 4.0260521 , 4.03406814,\n",
       "       4.04208417, 4.0501002 , 4.05811623, 4.06613226, 4.0741483 ,\n",
       "       4.08216433, 4.09018036, 4.09819639, 4.10621242, 4.11422846,\n",
       "       4.12224449, 4.13026052, 4.13827655, 4.14629259, 4.15430862,\n",
       "       4.16232465, 4.17034068, 4.17835671, 4.18637275, 4.19438878,\n",
       "       4.20240481, 4.21042084, 4.21843687, 4.22645291, 4.23446894,\n",
       "       4.24248497, 4.250501  , 4.25851703, 4.26653307, 4.2745491 ,\n",
       "       4.28256513, 4.29058116, 4.29859719, 4.30661323, 4.31462926,\n",
       "       4.32264529, 4.33066132, 4.33867735, 4.34669339, 4.35470942,\n",
       "       4.36272545, 4.37074148, 4.37875752, 4.38677355, 4.39478958,\n",
       "       4.40280561, 4.41082164, 4.41883768, 4.42685371, 4.43486974,\n",
       "       4.44288577, 4.4509018 , 4.45891784, 4.46693387, 4.4749499 ,\n",
       "       4.48296593, 4.49098196, 4.498998  , 4.50701403, 4.51503006,\n",
       "       4.52304609, 4.53106212, 4.53907816, 4.54709419, 4.55511022,\n",
       "       4.56312625, 4.57114228, 4.57915832, 4.58717435, 4.59519038,\n",
       "       4.60320641, 4.61122244, 4.61923848, 4.62725451, 4.63527054,\n",
       "       4.64328657, 4.65130261, 4.65931864, 4.66733467, 4.6753507 ,\n",
       "       4.68336673, 4.69138277, 4.6993988 , 4.70741483, 4.71543086,\n",
       "       4.72344689, 4.73146293, 4.73947896, 4.74749499, 4.75551102,\n",
       "       4.76352705, 4.77154309, 4.77955912, 4.78757515, 4.79559118,\n",
       "       4.80360721, 4.81162325, 4.81963928, 4.82765531, 4.83567134,\n",
       "       4.84368737, 4.85170341, 4.85971944, 4.86773547, 4.8757515 ,\n",
       "       4.88376754, 4.89178357, 4.8997996 , 4.90781563, 4.91583166,\n",
       "       4.9238477 , 4.93186373, 4.93987976, 4.94789579, 4.95591182,\n",
       "       4.96392786, 4.97194389, 4.97995992, 4.98797595, 4.99599198,\n",
       "       5.00400802, 5.01202405, 5.02004008, 5.02805611, 5.03607214,\n",
       "       5.04408818, 5.05210421, 5.06012024, 5.06813627, 5.0761523 ,\n",
       "       5.08416834, 5.09218437, 5.1002004 , 5.10821643, 5.11623246,\n",
       "       5.1242485 , 5.13226453, 5.14028056, 5.14829659, 5.15631263,\n",
       "       5.16432866, 5.17234469, 5.18036072, 5.18837675, 5.19639279,\n",
       "       5.20440882, 5.21242485, 5.22044088, 5.22845691, 5.23647295,\n",
       "       5.24448898, 5.25250501, 5.26052104, 5.26853707, 5.27655311,\n",
       "       5.28456914, 5.29258517, 5.3006012 , 5.30861723, 5.31663327,\n",
       "       5.3246493 , 5.33266533, 5.34068136, 5.34869739, 5.35671343,\n",
       "       5.36472946, 5.37274549, 5.38076152, 5.38877756, 5.39679359,\n",
       "       5.40480962, 5.41282565, 5.42084168, 5.42885772, 5.43687375,\n",
       "       5.44488978, 5.45290581, 5.46092184, 5.46893788, 5.47695391,\n",
       "       5.48496994, 5.49298597, 5.501002  , 5.50901804, 5.51703407,\n",
       "       5.5250501 , 5.53306613, 5.54108216, 5.5490982 , 5.55711423,\n",
       "       5.56513026, 5.57314629, 5.58116232, 5.58917836, 5.59719439,\n",
       "       5.60521042, 5.61322645, 5.62124248, 5.62925852, 5.63727455,\n",
       "       5.64529058, 5.65330661, 5.66132265, 5.66933868, 5.67735471,\n",
       "       5.68537074, 5.69338677, 5.70140281, 5.70941884, 5.71743487,\n",
       "       5.7254509 , 5.73346693, 5.74148297, 5.749499  , 5.75751503,\n",
       "       5.76553106, 5.77354709, 5.78156313, 5.78957916, 5.79759519,\n",
       "       5.80561122, 5.81362725, 5.82164329, 5.82965932, 5.83767535,\n",
       "       5.84569138, 5.85370741, 5.86172345, 5.86973948, 5.87775551,\n",
       "       5.88577154, 5.89378758, 5.90180361, 5.90981964, 5.91783567,\n",
       "       5.9258517 , 5.93386774, 5.94188377, 5.9498998 , 5.95791583,\n",
       "       5.96593186, 5.9739479 , 5.98196393, 5.98997996, 5.99799599,\n",
       "       6.00601202, 6.01402806, 6.02204409, 6.03006012, 6.03807615,\n",
       "       6.04609218, 6.05410822, 6.06212425, 6.07014028, 6.07815631,\n",
       "       6.08617234, 6.09418838, 6.10220441, 6.11022044, 6.11823647,\n",
       "       6.12625251, 6.13426854, 6.14228457, 6.1503006 , 6.15831663,\n",
       "       6.16633267, 6.1743487 , 6.18236473, 6.19038076, 6.19839679,\n",
       "       6.20641283, 6.21442886, 6.22244489, 6.23046092, 6.23847695,\n",
       "       6.24649299, 6.25450902, 6.26252505, 6.27054108, 6.27855711,\n",
       "       6.28657315, 6.29458918, 6.30260521, 6.31062124, 6.31863727,\n",
       "       6.32665331, 6.33466934, 6.34268537, 6.3507014 , 6.35871743,\n",
       "       6.36673347, 6.3747495 , 6.38276553, 6.39078156, 6.3987976 ,\n",
       "       6.40681363, 6.41482966, 6.42284569, 6.43086172, 6.43887776,\n",
       "       6.44689379, 6.45490982, 6.46292585, 6.47094188, 6.47895792,\n",
       "       6.48697395, 6.49498998, 6.50300601, 6.51102204, 6.51903808,\n",
       "       6.52705411, 6.53507014, 6.54308617, 6.5511022 , 6.55911824,\n",
       "       6.56713427, 6.5751503 , 6.58316633, 6.59118236, 6.5991984 ,\n",
       "       6.60721443, 6.61523046, 6.62324649, 6.63126253, 6.63927856,\n",
       "       6.64729459, 6.65531062, 6.66332665, 6.67134269, 6.67935872,\n",
       "       6.68737475, 6.69539078, 6.70340681, 6.71142285, 6.71943888,\n",
       "       6.72745491, 6.73547094, 6.74348697, 6.75150301, 6.75951904,\n",
       "       6.76753507, 6.7755511 , 6.78356713, 6.79158317, 6.7995992 ,\n",
       "       6.80761523, 6.81563126, 6.82364729, 6.83166333, 6.83967936,\n",
       "       6.84769539, 6.85571142, 6.86372745, 6.87174349, 6.87975952,\n",
       "       6.88777555, 6.89579158, 6.90380762, 6.91182365, 6.91983968,\n",
       "       6.92785571, 6.93587174, 6.94388778, 6.95190381, 6.95991984,\n",
       "       6.96793587, 6.9759519 , 6.98396794, 6.99198397, 7.        ])"
      ]
     },
     "execution_count": 15,
     "metadata": {},
     "output_type": "execute_result"
    }
   ],
   "source": [
    "weights"
   ]
  },
  {
   "cell_type": "code",
   "execution_count": 19,
   "metadata": {},
   "outputs": [
    {
     "data": {
      "text/plain": [
       "113.01252647311298"
      ]
     },
     "execution_count": 19,
     "metadata": {},
     "output_type": "execute_result"
    }
   ],
   "source": [
    "straight_line_weight(6.95,x_vals[2])"
   ]
  },
  {
   "cell_type": "markdown",
   "metadata": {},
   "source": [
    "- Cost/Loss Calculation: Squared loss function...a measure of how far is predicted value from actual\n",
    "- Steps :\n",
    "-  For every weight and feature x, compute predicted y\n",
    "-  Now find out loss by = average ((predicted y - actual y)**2)\n"
   ]
  },
  {
   "cell_type": "code",
   "execution_count": 20,
   "metadata": {},
   "outputs": [],
   "source": [
    "loss=[]\n",
    "for w in weights:\n",
    "    y_p = []\n",
    "    for x in x_vals:\n",
    "        y_p.append(straight_line_weight(w,x))\n",
    "    loss.append(np.average(((y_p - y_vals)**2)))"
   ]
  },
  {
   "cell_type": "code",
   "execution_count": 21,
   "metadata": {},
   "outputs": [
    {
     "data": {
      "text/plain": [
       "<matplotlib.collections.PathCollection at 0xd6e456c2b0>"
      ]
     },
     "execution_count": 21,
     "metadata": {},
     "output_type": "execute_result"
    },
    {
     "data": {
      "image/png": "[encoded data removed]",
      "text/plain": [
       "<Figure size 432x288 with 1 Axes>"
      ]
     },
     "metadata": {},
     "output_type": "display_data"
    }
   ],
   "source": [
    "plt.scatter(weights, loss)"
   ]
  },
  {
   "cell_type": "code",
   "execution_count": 24,
   "metadata": {},
   "outputs": [
    {
     "data": {
      "text/plain": [
       "1"
      ]
     },
     "execution_count": 24,
     "metadata": {},
     "output_type": "execute_result"
    }
   ],
   "source": [
    "np.array([4,2,7,5]).argmin()"
   ]
  },
  {
   "cell_type": "code",
   "execution_count": 28,
   "metadata": {},
   "outputs": [
    {
     "data": {
      "text/plain": [
       "(0.0023722328094555193, 250, 5.0040080160320635)"
      ]
     },
     "execution_count": 28,
     "metadata": {},
     "output_type": "execute_result"
    }
   ],
   "source": [
    "np.array(loss).min(),np.array(loss).argmin() , weights[250]"
   ]
  },
  {
   "cell_type": "code",
   "execution_count": 82,
   "metadata": {},
   "outputs": [
    {
     "name": "stdout",
     "output_type": "stream",
     "text": [
      "5.0040080160320635\n"
     ]
    },
    {
     "data": {
      "text/plain": [
       "0.002022406601754758"
      ]
     },
     "execution_count": 82,
     "metadata": {},
     "output_type": "execute_result"
    }
   ],
   "source": [
    "np.array(loss).argmin()\n",
    "print(weights[np.array(loss).argmin()])\n",
    "min(loss)"
   ]
  },
  {
   "cell_type": "code",
   "execution_count": 70,
   "metadata": {},
   "outputs": [
    {
     "data": {
      "text/plain": [
       "<matplotlib.collections.PathCollection at 0x3be9764400>"
      ]
     },
     "execution_count": 70,
     "metadata": {},
     "output_type": "execute_result"
    },
    {
     "data": {
      "image/png": "[encoded data removed]",
      "text/plain": [
       "<Figure size 432x288 with 1 Axes>"
      ]
     },
     "metadata": {},
     "output_type": "display_data"
    }
   ],
   "source": [
    "plt.scatter(weights, loss)"
   ]
  },
  {
   "cell_type": "code",
   "execution_count": 66,
   "metadata": {},
   "outputs": [
    {
     "data": {
      "text/plain": [
       "([22.41215014575863, 50.56568136516392, 33.3451729817933], 0    31.701044\n",
       " 1    78.000041\n",
       " 2    49.680600\n",
       " dtype: float64)"
      ]
     },
     "execution_count": 66,
     "metadata": {},
     "output_type": "execute_result"
    }
   ],
   "source": [
    "y_p[0:3], y_vals[0:3]"
   ]
  },
  {
   "cell_type": "markdown",
   "metadata": {},
   "source": [
    "- plot weight as x axis and loss as y axix"
   ]
  },
  {
   "cell_type": "code",
   "execution_count": null,
   "metadata": {},
   "outputs": [],
   "source": []
  },
  {
   "cell_type": "markdown",
   "metadata": {},
   "source": [
    "<h4>Loss Function</h4>\n",
    "Squared Loss Function. Loss is the average of squared difference between predicted and actual value.  Squared Loss function not only gives us Loss at a given weight, it also tells us which direction \n",
    "to go to minimize loss. <br>\n",
    "For a given (weight, loss), algorithm finds the slope using calculus/first order derivatives. \n",
    "If negative slope, increase the weight\n",
    "If positive slope, decrease the weight\n",
    "\n",
    "<h4>Learning Rate</h4>\n",
    "Learning Rate decides how much the weight should be increased or decreased.<br>\n",
    "Too big of a change, it will skip the point where loss is minimal.<br>\n",
    "Too small of a change, it will take several iterations to find out where the loss is minimal.<br>"
   ]
  },
  {
   "cell_type": "markdown",
   "metadata": {
    "collapsed": true
   },
   "source": [
    "<h4>Summary</h4>\n",
    "<p><b>Squared Loss Function</b> is parabolic in nature. It has an important property of not only telling us the loss at a given weight, but also tells us which way to go to minimize loss</p>\n",
    "<p><b>Gradient Descent</b> optimization alogrithm uses loss function to move the weights of all the features and iteratively adjusts the weights until optimal value is reached</p>\n",
    "\n",
    "<p><b>Batch Gradient Descent</b> predicts y value for all training examples and then adjusts the value of weights based on loss. It can converge much slower when training set is very large. Training set order does not matter as every single example in the training set is considered before making adjustments</p>\n",
    "\n",
    "<p><b>Stochastic Gradient Descent</b> predicts y value for next training example and immediately adjusts the value of weights.</p> It can converge faster when training set is very large.  Training set should be random order otherwise model will not learn correctly. <b>AWS ML uses Stochastic Gradient Descent</b>"
   ]
  },
  {
   "cell_type": "code",
   "execution_count": null,
   "metadata": {
    "collapsed": true
   },
   "outputs": [],
   "source": []
  }
 ],
 "metadata": {
  "kernelspec": {
   "display_name": "Python 3",
   "language": "python",
   "name": "python3"
  },
  "language_info": {
   "codemirror_mode": {
    "name": "ipython",
    "version": 3
   },
   "file_extension": ".py",
   "mimetype": "text/x-python",
   "name": "python",
   "nbconvert_exporter": "python",
   "pygments_lexer": "ipython3",
   "version": "3.6.5"
  },
  "varInspector": {
   "cols": {
    "lenName": 16,
    "lenType": 16,
    "lenVar": 40
   },
   "kernels_config": {
    "python": {
     "delete_cmd_postfix": "",
     "delete_cmd_prefix": "del ",
     "library": "var_list.py",
     "varRefreshCmd": "print(var_dic_list())"
    },
    "r": {
     "delete_cmd_postfix": ") ",
     "delete_cmd_prefix": "rm(",
     "library": "var_list.r",
     "varRefreshCmd": "cat(var_dic_list()) "
    }
   },
   "types_to_exclude": [
    "module",
    "function",
    "builtin_function_or_method",
    "instance",
    "_Feature"
   ],
   "window_display": false
  }
 },
 "nbformat": 4,
 "nbformat_minor": 1
}
