{
 "cells": [
  {
   "cell_type": "code",
   "execution_count": 1,
   "metadata": {},
   "outputs": [],
   "source": [
    "import re"
   ]
  },
  {
   "cell_type": "code",
   "execution_count": 5,
   "metadata": {},
   "outputs": [],
   "source": [
    "p = 'hello'\n",
    "t = 'hello good morning hello'"
   ]
  },
  {
   "cell_type": "code",
   "execution_count": 6,
   "metadata": {},
   "outputs": [
    {
     "name": "stdout",
     "output_type": "stream",
     "text": [
      "0 5\n"
     ]
    }
   ],
   "source": [
    "m = re.search(p,t)\n",
    "print(m.start(), m.end())"
   ]
  },
  {
   "cell_type": "code",
   "execution_count": 7,
   "metadata": {},
   "outputs": [
    {
     "data": {
      "text/plain": [
       "['hello', 'hello']"
      ]
     },
     "execution_count": 7,
     "metadata": {},
     "output_type": "execute_result"
    }
   ],
   "source": [
    "re.findall(p,t)"
   ]
  },
  {
   "cell_type": "code",
   "execution_count": 8,
   "metadata": {},
   "outputs": [
    {
     "name": "stdout",
     "output_type": "stream",
     "text": [
      "Found at 0 5\n",
      "Found at 19 24\n"
     ]
    }
   ],
   "source": [
    "for m in re.finditer(p,t):\n",
    "    print(\"Found at\", m.start(), m.end())"
   ]
  },
  {
   "cell_type": "markdown",
   "metadata": {},
   "source": [
    "### Character by character and no overlapping patterns"
   ]
  },
  {
   "cell_type": "code",
   "execution_count": 9,
   "metadata": {},
   "outputs": [
    {
     "data": {
      "text/plain": [
       "['sas', 'sas']"
      ]
     },
     "execution_count": 9,
     "metadata": {},
     "output_type": "execute_result"
    }
   ],
   "source": [
    "p = 'sas'\n",
    "t = 'sasasas'\n",
    "re.findall(p,t)"
   ]
  },
  {
   "cell_type": "code",
   "execution_count": 10,
   "metadata": {},
   "outputs": [
    {
     "name": "stdout",
     "output_type": "stream",
     "text": [
      "Found at 0 3\n",
      "Found at 4 7\n"
     ]
    }
   ],
   "source": [
    "for m in re.finditer(p,t):\n",
    "    print(\"Found at\", m.start(), m.end())"
   ]
  },
  {
   "cell_type": "markdown",
   "metadata": {},
   "source": [
    "### Literal repetition\n",
    "### Greedy by default\n",
    "- xy* => x followed by 0 to n number of y"
   ]
  },
  {
   "cell_type": "code",
   "execution_count": 11,
   "metadata": {},
   "outputs": [
    {
     "data": {
      "text/plain": [
       "['xy', 'xy', 'x', 'x', 'xyyyy', 'xyyyy']"
      ]
     },
     "execution_count": 11,
     "metadata": {},
     "output_type": "execute_result"
    }
   ],
   "source": [
    "p = 'xy*'\n",
    "t = 'xyxyxxxyyyyxyyyy'\n",
    "re.findall(p,t)"
   ]
  },
  {
   "cell_type": "markdown",
   "metadata": {},
   "source": [
    "- xy+ => x followed by 1 to n of y"
   ]
  },
  {
   "cell_type": "code",
   "execution_count": 12,
   "metadata": {},
   "outputs": [
    {
     "data": {
      "text/plain": [
       "['xy', 'xy', 'xyyyy', 'xyyyy']"
      ]
     },
     "execution_count": 12,
     "metadata": {},
     "output_type": "execute_result"
    }
   ],
   "source": [
    "p = 'xy+'\n",
    "re.findall(p,t)"
   ]
  },
  {
   "cell_type": "code",
   "execution_count": 13,
   "metadata": {},
   "outputs": [
    {
     "data": {
      "text/plain": [
       "['xyyy', 'xyyy']"
      ]
     },
     "execution_count": 13,
     "metadata": {},
     "output_type": "execute_result"
    }
   ],
   "source": [
    "p = 'xy{3}'\n",
    "re.findall(p,t)"
   ]
  },
  {
   "cell_type": "code",
   "execution_count": 15,
   "metadata": {},
   "outputs": [
    {
     "data": {
      "text/plain": [
       "['xy', 'xy', 'xyyyy', 'xyyyy', 'xyy', 'xyyy']"
      ]
     },
     "execution_count": 15,
     "metadata": {},
     "output_type": "execute_result"
    }
   ],
   "source": [
    "p = 'xy{1,4}'\n",
    "t = t + \"xyyxyyy\"\n",
    "re.findall(p,t)"
   ]
  },
  {
   "cell_type": "code",
   "execution_count": 16,
   "metadata": {},
   "outputs": [
    {
     "data": {
      "text/plain": [
       "['xy', 'xy', 'x', 'x', 'xy', 'xy', 'xy', 'xy']"
      ]
     },
     "execution_count": 16,
     "metadata": {},
     "output_type": "execute_result"
    }
   ],
   "source": [
    "p = 'xy?'\n",
    "re.findall(p,t)"
   ]
  },
  {
   "cell_type": "markdown",
   "metadata": {},
   "source": [
    "### character set"
   ]
  },
  {
   "cell_type": "code",
   "execution_count": 17,
   "metadata": {},
   "outputs": [
    {
     "data": {
      "text/plain": [
       "['xyxyxxxyyyyxyyyyxyyxyyy']"
      ]
     },
     "execution_count": 17,
     "metadata": {},
     "output_type": "execute_result"
    }
   ],
   "source": [
    "p = 'x[xy]*'\n",
    "re.findall(p,t)"
   ]
  },
  {
   "cell_type": "code",
   "execution_count": 21,
   "metadata": {},
   "outputs": [
    {
     "data": {
      "text/plain": [
       "['1975494.90']"
      ]
     },
     "execution_count": 21,
     "metadata": {},
     "output_type": "execute_result"
    }
   ],
   "source": [
    "t = 'Rs 1975494.90'\n",
    "p = '[0123456789.]+'\n",
    "re.findall(p,t)"
   ]
  },
  {
   "cell_type": "code",
   "execution_count": 22,
   "metadata": {},
   "outputs": [
    {
     "data": {
      "text/plain": [
       "['1975494.90']"
      ]
     },
     "execution_count": 22,
     "metadata": {},
     "output_type": "execute_result"
    }
   ],
   "source": [
    "t = 'Rs 1975494.90'\n",
    "p = '[0-9.]+'\n",
    "re.findall(p,t)"
   ]
  },
  {
   "cell_type": "code",
   "execution_count": 24,
   "metadata": {},
   "outputs": [
    {
     "data": {
      "text/plain": [
       "['Rs']"
      ]
     },
     "execution_count": 24,
     "metadata": {},
     "output_type": "execute_result"
    }
   ],
   "source": [
    "p='[A-Za-z]+'\n",
    "re.findall(p,t)"
   ]
  },
  {
   "cell_type": "code",
   "execution_count": 25,
   "metadata": {},
   "outputs": [
    {
     "data": {
      "text/plain": [
       "['10-05-2018']"
      ]
     },
     "execution_count": 25,
     "metadata": {},
     "output_type": "execute_result"
    }
   ],
   "source": [
    "t = 'Date 10-05-2018'\n",
    "p = '[0-9]{2}-[0-9]{2}-[0-9]{4}'\n",
    "re.findall(p,t)"
   ]
  },
  {
   "cell_type": "code",
   "execution_count": 26,
   "metadata": {},
   "outputs": [
    {
     "data": {
      "text/plain": [
       "['10-05-2018']"
      ]
     },
     "execution_count": 26,
     "metadata": {},
     "output_type": "execute_result"
    }
   ],
   "source": [
    "t = 'Date 10-05-2018'\n",
    "p = '\\d{2}-\\d{2}-\\d{4}'\n",
    "re.findall(p,t)"
   ]
  },
  {
   "cell_type": "code",
   "execution_count": 27,
   "metadata": {},
   "outputs": [
    {
     "data": {
      "text/plain": [
       "['10-05-2018', '10-05-2021']"
      ]
     },
     "execution_count": 27,
     "metadata": {},
     "output_type": "execute_result"
    }
   ],
   "source": [
    "t = 'Mfg Date 10-05-2018 Exp Date 10-05-2021'\n",
    "p = '\\d{2}-\\d{2}-\\d{4}'\n",
    "re.findall(p,t)"
   ]
  },
  {
   "cell_type": "code",
   "execution_count": 29,
   "metadata": {},
   "outputs": [
    {
     "data": {
      "text/plain": [
       "['10-05-2021']"
      ]
     },
     "execution_count": 29,
     "metadata": {},
     "output_type": "execute_result"
    }
   ],
   "source": [
    "t = 'Mfg Date 10-05-2018 Exp Date 10-05-2021'\n",
    "p = 'Exp Date (\\d{2}-\\d{2}-\\d{4})'\n",
    "re.findall(p,t)"
   ]
  },
  {
   "cell_type": "code",
   "execution_count": 31,
   "metadata": {},
   "outputs": [
    {
     "data": {
      "text/plain": [
       "[('10-05-2021', '10', '05', '2021')]"
      ]
     },
     "execution_count": 31,
     "metadata": {},
     "output_type": "execute_result"
    }
   ],
   "source": [
    "t = 'Mfg Date 10-05-2018 Exp Date 10-05-2021'\n",
    "p = 'Exp Date ((\\d{2})-(\\d{2})-(\\d{4}))'\n",
    "re.findall(p,t)"
   ]
  },
  {
   "cell_type": "code",
   "execution_count": 34,
   "metadata": {},
   "outputs": [
    {
     "name": "stdout",
     "output_type": "stream",
     "text": [
      "Exp Date 10-05-2021 ... 10-05-2021 ... 10 ... 05 ... 2021\n"
     ]
    }
   ],
   "source": [
    "for m in re.finditer(p,t):\n",
    "    print(m.group(0), \"...\",  m.group(1) , \"...\" , m.group(2) , \"...\", m.group(3), \"...\", m.group(4))"
   ]
  },
  {
   "cell_type": "code",
   "execution_count": 36,
   "metadata": {},
   "outputs": [
    {
     "name": "stdout",
     "output_type": "stream",
     "text": [
      "10-05-2021 ... 10 ... 05 ... 2021\n"
     ]
    }
   ],
   "source": [
    "t = 'Mfg Date 10-05-2018 Exp Date 10-05-2021'\n",
    "p = r'Exp Date (?P<expdate>(?P<day>\\d{2})-(?P<month>\\d{2})-(?P<year>\\d{4}))'\n",
    "\n",
    "for m in re.finditer(p,t):\n",
    "    print(m.group('expdate'), \"...\",  m.group('day') , \"...\" , m.group('month') , \"...\", m.group('year'))"
   ]
  },
  {
   "cell_type": "code",
   "execution_count": 37,
   "metadata": {},
   "outputs": [
    {
     "data": {
      "text/plain": [
       "['monday', 'tuesday']"
      ]
     },
     "execution_count": 37,
     "metadata": {},
     "output_type": "execute_result"
    }
   ],
   "source": [
    "t = 'monday tuesday friday'\n",
    "p = 'monday|tuesday'\n",
    "re.findall(p,t)"
   ]
  },
  {
   "cell_type": "code",
   "execution_count": 38,
   "metadata": {},
   "outputs": [
    {
     "name": "stdout",
     "output_type": "stream",
     "text": [
      "['man', 'man']\n",
      "['man', 'mango']\n"
     ]
    }
   ],
   "source": [
    "t = 'man eats mango'\n",
    "p = 'man|mango'\n",
    "print(re.findall(p,t))\n",
    "p  ='mango|man'\n",
    "print(re.findall(p,t))"
   ]
  },
  {
   "cell_type": "code",
   "execution_count": 42,
   "metadata": {},
   "outputs": [
    {
     "name": "stdout",
     "output_type": "stream",
     "text": [
      "['', 'go']\n",
      "man\n",
      "mango\n"
     ]
    }
   ],
   "source": [
    "p = 'man(go)?'\n",
    "print(re.findall(p,t))\n",
    "for m in re.finditer(p,t):\n",
    "    print(m.group(0))\n"
   ]
  },
  {
   "cell_type": "code",
   "execution_count": 44,
   "metadata": {},
   "outputs": [
    {
     "data": {
      "text/plain": [
       "['6']"
      ]
     },
     "execution_count": 44,
     "metadata": {},
     "output_type": "execute_result"
    }
   ],
   "source": [
    "t = 'class strength is 26.only 10 present.'\n",
    "p = '.+(\\d+)\\.'\n",
    "re.findall(p,t)"
   ]
  },
  {
   "cell_type": "code",
   "execution_count": 45,
   "metadata": {},
   "outputs": [
    {
     "data": {
      "text/plain": [
       "['26']"
      ]
     },
     "execution_count": 45,
     "metadata": {},
     "output_type": "execute_result"
    }
   ],
   "source": [
    "t = 'class strength is 26.only 10 present.'\n",
    "p = '.+?(\\d+)\\.'\n",
    "re.findall(p,t)"
   ]
  }
 ],
 "metadata": {
  "kernelspec": {
   "display_name": "Python 3",
   "language": "python",
   "name": "python3"
  },
  "language_info": {
   "codemirror_mode": {
    "name": "ipython",
    "version": 3
   },
   "file_extension": ".py",
   "mimetype": "text/x-python",
   "name": "python",
   "nbconvert_exporter": "python",
   "pygments_lexer": "ipython3",
   "version": "3.6.4"
  }
 },
 "nbformat": 4,
 "nbformat_minor": 2
}
