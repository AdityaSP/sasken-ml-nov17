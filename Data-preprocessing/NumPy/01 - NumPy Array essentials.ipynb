{
 "cells": [
  {
   "cell_type": "code",
   "execution_count": 1,
   "metadata": {
    "collapsed": true
   },
   "outputs": [],
   "source": [
    "import numpy as np"
   ]
  },
  {
   "cell_type": "markdown",
   "metadata": {},
   "source": [
    "### From Python list"
   ]
  },
  {
   "cell_type": "code",
   "execution_count": 3,
   "metadata": {},
   "outputs": [
    {
     "data": {
      "text/plain": [
       "[4, 6, 3, 6, 9]"
      ]
     },
     "execution_count": 3,
     "metadata": {},
     "output_type": "execute_result"
    }
   ],
   "source": [
    "my_list = [4,6,3,6,9]\n",
    "my_list"
   ]
  },
  {
   "cell_type": "code",
   "execution_count": null,
   "metadata": {},
   "outputs": [],
   "source": []
  },
  {
   "cell_type": "code",
   "execution_count": 2,
   "metadata": {},
   "outputs": [
    {
     "data": {
      "text/plain": [
       "[[1, 2, 3], [4, 5, 6], [7, 8, 9]]"
      ]
     },
     "execution_count": 2,
     "metadata": {},
     "output_type": "execute_result"
    }
   ],
   "source": [
    "my_matrix = [[1,2,3],[4,5,6],[7,8,9]]\n",
    "my_matrix"
   ]
  },
  {
   "cell_type": "code",
   "execution_count": null,
   "metadata": {},
   "outputs": [],
   "source": []
  },
  {
   "cell_type": "markdown",
   "metadata": {},
   "source": [
    "## Built-in Methods\n",
    "\n",
    "There are lots of built-in ways to generate Arrays"
   ]
  },
  {
   "cell_type": "markdown",
   "metadata": {},
   "source": [
    "### arange\n",
    "\n",
    "Return evenly spaced values within a given interval."
   ]
  },
  {
   "cell_type": "code",
   "execution_count": 4,
   "metadata": {},
   "outputs": [
    {
     "data": {
      "text/plain": [
       "array([0, 1, 2, 3, 4, 5, 6, 7, 8, 9])"
      ]
     },
     "execution_count": 4,
     "metadata": {},
     "output_type": "execute_result"
    }
   ],
   "source": [
    "np.arange(10)"
   ]
  },
  {
   "cell_type": "markdown",
   "metadata": {},
   "source": [
    "### zeros and ones\n",
    "\n",
    "Generate arrays of zeros or ones"
   ]
  },
  {
   "cell_type": "code",
   "execution_count": null,
   "metadata": {},
   "outputs": [],
   "source": []
  },
  {
   "cell_type": "markdown",
   "metadata": {},
   "source": [
    "### linspace\n",
    "Return evenly spaced numbers over a specified interval."
   ]
  },
  {
   "cell_type": "code",
   "execution_count": null,
   "metadata": {},
   "outputs": [],
   "source": []
  },
  {
   "cell_type": "markdown",
   "metadata": {},
   "source": [
    "## eye\n",
    "\n",
    "Creates an identity matrix"
   ]
  },
  {
   "cell_type": "code",
   "execution_count": null,
   "metadata": {},
   "outputs": [],
   "source": []
  },
  {
   "cell_type": "markdown",
   "metadata": {},
   "source": [
    "## Random \n",
    "\n",
    "Numpy also has lots of ways to create random number arrays:\n",
    "\n",
    "### rand\n",
    "Create an array of the given shape and populate it with\n",
    "random samples from a uniform distribution\n",
    "over ``[0, 1)``."
   ]
  },
  {
   "cell_type": "code",
   "execution_count": 21,
   "metadata": {},
   "outputs": [
    {
     "data": {
      "text/plain": [
       "array([0.24021304, 0.29352532, 0.92100871])"
      ]
     },
     "execution_count": 21,
     "metadata": {},
     "output_type": "execute_result"
    }
   ],
   "source": [
    "np.random.rand(3)"
   ]
  },
  {
   "cell_type": "code",
   "execution_count": 46,
   "metadata": {},
   "outputs": [
    {
     "data": {
      "text/plain": [
       "array([[ 0.66660768,  0.87589888,  0.12421056,  0.65074126,  0.60260888],\n",
       "       [ 0.70027668,  0.85572434,  0.8464595 ,  0.2735416 ,  0.10955384],\n",
       "       [ 0.0670566 ,  0.83267738,  0.9082729 ,  0.58249129,  0.12305748],\n",
       "       [ 0.27948423,  0.66422017,  0.95639833,  0.34238788,  0.9578872 ],\n",
       "       [ 0.72155386,  0.3035422 ,  0.85249683,  0.30414307,  0.79718816]])"
      ]
     },
     "execution_count": 46,
     "metadata": {},
     "output_type": "execute_result"
    }
   ],
   "source": [
    "np.random.rand(5,5)"
   ]
  },
  {
   "cell_type": "markdown",
   "metadata": {},
   "source": [
    "### randn\n",
    "\n",
    "Return a sample (or samples) from the \"standard normal\" distribution. Unlike rand which is uniform:"
   ]
  },
  {
   "cell_type": "code",
   "execution_count": 22,
   "metadata": {},
   "outputs": [
    {
     "data": {
      "text/plain": [
       "array([ 0.42620726, -0.39024736])"
      ]
     },
     "execution_count": 22,
     "metadata": {},
     "output_type": "execute_result"
    }
   ],
   "source": [
    "np.random.randn(2)"
   ]
  },
  {
   "cell_type": "code",
   "execution_count": 23,
   "metadata": {},
   "outputs": [
    {
     "data": {
      "text/plain": [
       "array([[ 1.21382642,  2.34697672, -0.8708024 ,  0.64534389, -1.62097598],\n",
       "       [-0.630677  ,  2.2435754 ,  0.20023548, -0.45762126,  0.25663389],\n",
       "       [-0.45977171, -0.15464403, -0.14477493, -0.67914867, -1.37803998],\n",
       "       [-1.94845477, -1.04603939, -0.27959778,  1.07713029, -0.07594146],\n",
       "       [ 0.00937235,  1.38655123,  1.31178501,  0.33864928,  3.06466437]])"
      ]
     },
     "execution_count": 23,
     "metadata": {},
     "output_type": "execute_result"
    }
   ],
   "source": [
    "np.random.randn(5,5)"
   ]
  },
  {
   "cell_type": "markdown",
   "metadata": {},
   "source": [
    "### randint\n",
    "Return random integers from `low` (inclusive) to `high` (exclusive)."
   ]
  },
  {
   "cell_type": "code",
   "execution_count": 24,
   "metadata": {},
   "outputs": [
    {
     "data": {
      "text/plain": [
       "18"
      ]
     },
     "execution_count": 24,
     "metadata": {},
     "output_type": "execute_result"
    }
   ],
   "source": [
    "np.random.randint(1,100)"
   ]
  },
  {
   "cell_type": "code",
   "execution_count": 25,
   "metadata": {},
   "outputs": [
    {
     "data": {
      "text/plain": [
       "array([95, 19, 19, 91, 32, 76, 20, 99,  5, 18])"
      ]
     },
     "execution_count": 25,
     "metadata": {},
     "output_type": "execute_result"
    }
   ],
   "source": [
    "np.random.randint(1,100,10)"
   ]
  },
  {
   "cell_type": "markdown",
   "metadata": {},
   "source": [
    "## Array Attributes and Methods\n",
    "\n",
    "Let's discuss some useful attributes and methods or an array:"
   ]
  },
  {
   "cell_type": "code",
   "execution_count": 55,
   "metadata": {
    "collapsed": true
   },
   "outputs": [],
   "source": [
    "arr = np.arange(25)\n",
    "ranarr = np.random.randint(0,50,10)"
   ]
  },
  {
   "cell_type": "code",
   "execution_count": 56,
   "metadata": {},
   "outputs": [
    {
     "data": {
      "text/plain": [
       "array([ 0,  1,  2,  3,  4,  5,  6,  7,  8,  9, 10, 11, 12, 13, 14, 15, 16,\n",
       "       17, 18, 19, 20, 21, 22, 23, 24])"
      ]
     },
     "execution_count": 56,
     "metadata": {},
     "output_type": "execute_result"
    }
   ],
   "source": [
    "arr"
   ]
  },
  {
   "cell_type": "code",
   "execution_count": 57,
   "metadata": {},
   "outputs": [
    {
     "data": {
      "text/plain": [
       "array([10, 12, 41, 17, 49,  2, 46,  3, 19, 39])"
      ]
     },
     "execution_count": 57,
     "metadata": {},
     "output_type": "execute_result"
    }
   ],
   "source": [
    "ranarr"
   ]
  },
  {
   "cell_type": "markdown",
   "metadata": {},
   "source": [
    "## Reshape\n",
    "Returns an array containing the same data with a new shape.\n",
    ".reshape(...) . But the number of items should remain the same"
   ]
  },
  {
   "cell_type": "code",
   "execution_count": 32,
   "metadata": {},
   "outputs": [
    {
     "data": {
      "text/plain": [
       "array([[0.94144501, 0.78447552, 0.34612753, 0.22692987, 0.40257054,\n",
       "        0.53153569, 0.00470257, 0.659604  , 0.11451079, 0.78821566,\n",
       "        0.87258485, 0.64057708, 0.15977792, 0.61307877, 0.01586517,\n",
       "        0.84379269, 0.78104921, 0.22206928, 0.011888  , 0.43371191],\n",
       "       [0.1683789 , 0.42160291, 0.38834345, 0.96836253, 0.26103521,\n",
       "        0.24027113, 0.7254873 , 0.56578735, 0.54088168, 0.88061428,\n",
       "        0.41699492, 0.09178144, 0.57420261, 0.56716857, 0.54306617,\n",
       "        0.18255181, 0.77772968, 0.8825862 , 0.87672028, 0.58370821],\n",
       "       [0.79007486, 0.45887435, 0.38256062, 0.37114852, 0.96572059,\n",
       "        0.67585867, 0.98988281, 0.14086691, 0.48746489, 0.97036576,\n",
       "        0.37850985, 0.64183327, 0.14337792, 0.51916619, 0.51755342,\n",
       "        0.30918827, 0.37032655, 0.15107263, 0.06526144, 0.86109371],\n",
       "       [0.99208935, 0.36548855, 0.28590572, 0.44747473, 0.77134446,\n",
       "        0.7623538 , 0.90432569, 0.6940278 , 0.76471616, 0.54440829,\n",
       "        0.05399826, 0.53516061, 0.76335065, 0.90076608, 0.34746194,\n",
       "        0.03804925, 0.59936022, 0.6502332 , 0.17838723, 0.20816238],\n",
       "       [0.91300764, 0.71200071, 0.61544381, 0.07644087, 0.75592212,\n",
       "        0.32681427, 0.8982185 , 0.16039423, 0.71804862, 0.44752792,\n",
       "        0.39324974, 0.67463376, 0.17430132, 0.89564735, 0.83511086,\n",
       "        0.33854056, 0.18912298, 0.51085866, 0.12203154, 0.19332328],\n",
       "       [0.36622444, 0.4942708 , 0.4518534 , 0.0387271 , 0.48369113,\n",
       "        0.79254596, 0.43637495, 0.51176576, 0.48071536, 0.37660302,\n",
       "        0.56481635, 0.30061721, 0.49842804, 0.52821224, 0.44850148,\n",
       "        0.67353635, 0.13510892, 0.76588505, 0.30378672, 0.69071662],\n",
       "       [0.12385205, 0.73380864, 0.91230462, 0.46746079, 0.03045015,\n",
       "        0.59080861, 0.72366199, 0.1409231 , 0.33938907, 0.58171738,\n",
       "        0.94120789, 0.66381286, 0.93169802, 0.76239589, 0.20747375,\n",
       "        0.01854927, 0.36676723, 0.73660352, 0.42512959, 0.14008371],\n",
       "       [0.95281067, 0.15748731, 0.46096342, 0.12599196, 0.76770272,\n",
       "        0.08664973, 0.44108188, 0.9689057 , 0.27602736, 0.88975168,\n",
       "        0.85259666, 0.4162076 , 0.31669979, 0.72617315, 0.82401731,\n",
       "        0.44415053, 0.64078269, 0.50408876, 0.51519784, 0.70778083],\n",
       "       [0.86391251, 0.6186542 , 0.2232624 , 0.78910374, 0.47617674,\n",
       "        0.67967252, 0.06620747, 0.88725609, 0.18848221, 0.68688753,\n",
       "        0.93662308, 0.54065982, 0.68110522, 0.14666219, 0.07550666,\n",
       "        0.3207495 , 0.19508128, 0.42961082, 0.8695297 , 0.85310304],\n",
       "       [0.04418894, 0.98599432, 0.21872411, 0.8267029 , 0.44101568,\n",
       "        0.06908488, 0.26740156, 0.02018182, 0.8841375 , 0.89655881,\n",
       "        0.74319454, 0.8946908 , 0.51769911, 0.16940774, 0.70096056,\n",
       "        0.81934247, 0.77442485, 0.46938973, 0.97943385, 0.3593564 ]])"
      ]
     },
     "execution_count": 32,
     "metadata": {},
     "output_type": "execute_result"
    }
   ],
   "source": [
    "np.random.rand(1,200).reshape(10,20)"
   ]
  },
  {
   "cell_type": "markdown",
   "metadata": {},
   "source": [
    "### max,min,argmax,argmin\n",
    "\n",
    "These are useful methods for finding max or min values. Or to find their index locations using argmin or argmax"
   ]
  },
  {
   "cell_type": "code",
   "execution_count": null,
   "metadata": {},
   "outputs": [],
   "source": []
  },
  {
   "cell_type": "markdown",
   "metadata": {},
   "source": [
    "### dtype\n",
    "\n",
    "You can also grab the data type of the object in the array:\n",
    "arr.dtype"
   ]
  },
  {
   "cell_type": "code",
   "execution_count": null,
   "metadata": {},
   "outputs": [],
   "source": []
  }
 ],
 "metadata": {
  "kernelspec": {
   "display_name": "Python 3",
   "language": "python",
   "name": "python3"
  },
  "language_info": {
   "codemirror_mode": {
    "name": "ipython",
    "version": 3
   },
   "file_extension": ".py",
   "mimetype": "text/x-python",
   "name": "python",
   "nbconvert_exporter": "python",
   "pygments_lexer": "ipython3",
   "version": "3.6.5"
  },
  "varInspector": {
   "cols": {
    "lenName": 16,
    "lenType": 16,
    "lenVar": 40
   },
   "kernels_config": {
    "python": {
     "delete_cmd_postfix": "",
     "delete_cmd_prefix": "del ",
     "library": "var_list.py",
     "varRefreshCmd": "print(var_dic_list())"
    },
    "r": {
     "delete_cmd_postfix": ") ",
     "delete_cmd_prefix": "rm(",
     "library": "var_list.r",
     "varRefreshCmd": "cat(var_dic_list()) "
    }
   },
   "types_to_exclude": [
    "module",
    "function",
    "builtin_function_or_method",
    "instance",
    "_Feature"
   ],
   "window_display": false
  }
 },
 "nbformat": 4,
 "nbformat_minor": 1
}
